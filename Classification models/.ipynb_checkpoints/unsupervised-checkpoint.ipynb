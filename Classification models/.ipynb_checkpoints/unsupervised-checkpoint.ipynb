{
 "cells": [
  {
   "cell_type": "code",
   "execution_count": null,
   "id": "1bc159e5-c727-4033-ac9b-de3b292e7afb",
   "metadata": {},
   "outputs": [],
   "source": [
    "#Library imports\n",
    "import pandas as pd\n",
    "import numpy as np\n",
    "import matplotlib.pyplot as plt\n",
    "import seaborn as sns\n",
    "import tensorflow as tf\n",
    "from sklearn.model_selection import train_test_split\n",
    "from sklearn.metrics import mean_squared_error, r2_score\n",
    "from tensorflow.keras.models import Sequential\n",
    "from tensorflow.keras.layers import Dense\n",
    "from tensorflow.keras.optimizers import Adam\n",
    "from sklearn.cluster import KMeans\n",
    "from sklearn.preprocessing import StandardScaler\n",
    "from sklearn.linear_model import LogisticRegression\n",
    "from sklearn.metrics import accuracy_score, classification_report, confusion_matrix\n",
    "from sklearn.preprocessing import LabelEncoder\n",
    "from sklearn.ensemble import RandomForestClassifier\n",
    "from sklearn.metrics import confusion_matrix, ConfusionMatrixDisplay\n",
    "\n",
    "df = pd.read_csv('final_data.csv')"
   ]
  },
  {
   "cell_type": "markdown",
   "id": "0ef4ee6e-2921-4caf-841b-b63733ca9bec",
   "metadata": {},
   "source": [
    "## Unsupervised Learning using k-Means"
   ]
  },
  {
   "cell_type": "code",
   "execution_count": null,
   "id": "e34580ca-d093-434e-b2d7-3a54b5a602f0",
   "metadata": {},
   "outputs": [],
   "source": [
    "# Select relevant columns\n",
    "financial_data = df[['Income', 'Expenses', 'SavingsRate', 'Desired_Savings_Percentage', 'NetSavings', 'Financial_Status']]\n",
    "\n",
    "# Normalize the data\n",
    "scaler = StandardScaler()\n",
    "normalized_data = scaler.fit_transform(financial_data)\n",
    "\n",
    "# Apply KMeans\n",
    "kmeans = KMeans(n_clusters=3, random_state=42)\n",
    "df['Cluster'] = kmeans.fit_predict(normalized_data)\n",
    "\n",
    "# Map cluster labels to segments\n",
    "cluster_labels = {\n",
    "    0: 'Thrifty',\n",
    "    1: 'Balanced',\n",
    "    2: 'Extravagant'\n",
    "}\n",
    "df['Segment'] = df['Cluster'].map(cluster_labels)\n",
    "\n",
    "# Visualization: Scatter plot for Income vs Expenses\n",
    "plt.figure(figsize=(10, 6))\n",
    "for segment, color in zip(['Thrifty', 'Balanced', 'Extravagant'], ['blue', 'green', 'red']):\n",
    "    cluster_data = df[df['Segment'] == segment]\n",
    "    plt.scatter(cluster_data['Income'], cluster_data['Expenses'], label=segment, alpha=0.6)\n",
    "\n",
    "plt.xlim(0, 500000)\n",
    "plt.ylim(0, 300000) \n",
    "plt.title('User Segments: Income vs Expenses (zoomed in)')\n",
    "plt.xlabel('Income')\n",
    "plt.ylabel('Expenses')\n",
    "plt.legend()\n",
    "plt.show()\n"
   ]
  },
  {
   "cell_type": "code",
   "execution_count": null,
   "id": "99e76016-ef8b-4666-b7d6-7d533c46ac51",
   "metadata": {},
   "outputs": [],
   "source": [
    "from sklearn.metrics import silhouette_score\n",
    "\n",
    "# Calculate silhouette score\n",
    "silhouette_avg = silhouette_score(normalized_data, kmeans.labels_)\n",
    "\n",
    "print(f'Silhouette Score: {silhouette_avg}')\n"
   ]
  },
  {
   "cell_type": "code",
   "execution_count": null,
   "id": "83214478-4948-4026-a295-14e340da5e9d",
   "metadata": {},
   "outputs": [],
   "source": []
  }
 ],
 "metadata": {
  "kernelspec": {
   "display_name": "Python 3 (ipykernel)",
   "language": "python",
   "name": "python3"
  },
  "language_info": {
   "codemirror_mode": {
    "name": "ipython",
    "version": 3
   },
   "file_extension": ".py",
   "mimetype": "text/x-python",
   "name": "python",
   "nbconvert_exporter": "python",
   "pygments_lexer": "ipython3",
   "version": "3.12.5"
  }
 },
 "nbformat": 4,
 "nbformat_minor": 5
}
